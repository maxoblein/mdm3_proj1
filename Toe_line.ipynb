{
 "cells": [
  {
   "cell_type": "code",
   "execution_count": 1,
   "metadata": {},
   "outputs": [],
   "source": [
    "import matplotlib.pyplot as plt\n",
    "from mpl_toolkits.mplot3d import Axes3D\n",
    "from scipy.spatial import ConvexHull, convex_hull_plot_2d\n",
    "import numpy as np\n",
    "import pandas as pd\n",
    "import glob\n",
    "import re\n",
    "import sys"
   ]
  },
  {
   "cell_type": "code",
   "execution_count": 89,
   "metadata": {},
   "outputs": [],
   "source": [
    "foot_scan = \"000001.wrl\""
   ]
  },
  {
   "cell_type": "code",
   "execution_count": 90,
   "metadata": {
    "scrolled": false
   },
   "outputs": [
    {
     "data": {
      "text/html": [
       "<div>\n",
       "<style scoped>\n",
       "    .dataframe tbody tr th:only-of-type {\n",
       "        vertical-align: middle;\n",
       "    }\n",
       "\n",
       "    .dataframe tbody tr th {\n",
       "        vertical-align: top;\n",
       "    }\n",
       "\n",
       "    .dataframe thead th {\n",
       "        text-align: right;\n",
       "    }\n",
       "</style>\n",
       "<table border=\"1\" class=\"dataframe\">\n",
       "  <thead>\n",
       "    <tr style=\"text-align: right;\">\n",
       "      <th></th>\n",
       "      <th>0</th>\n",
       "      <th>1</th>\n",
       "      <th>2</th>\n",
       "      <th>3</th>\n",
       "      <th>4</th>\n",
       "    </tr>\n",
       "  </thead>\n",
       "  <tbody>\n",
       "    <tr>\n",
       "      <th>0</th>\n",
       "      <td>Scan Name</td>\n",
       "      <td>Big Toe</td>\n",
       "      <td>Index Toe</td>\n",
       "      <td>Straight</td>\n",
       "      <td>Curved</td>\n",
       "    </tr>\n",
       "    <tr>\n",
       "      <th>1</th>\n",
       "      <td>000000.wrl</td>\n",
       "      <td>1</td>\n",
       "      <td>0</td>\n",
       "      <td>1</td>\n",
       "      <td>0</td>\n",
       "    </tr>\n",
       "    <tr>\n",
       "      <th>2</th>\n",
       "      <td>000001.wrl</td>\n",
       "      <td>0</td>\n",
       "      <td>1</td>\n",
       "      <td>1</td>\n",
       "      <td>0</td>\n",
       "    </tr>\n",
       "    <tr>\n",
       "      <th>3</th>\n",
       "      <td>000002.wrl</td>\n",
       "      <td>1</td>\n",
       "      <td>0</td>\n",
       "      <td>1</td>\n",
       "      <td>0</td>\n",
       "    </tr>\n",
       "    <tr>\n",
       "      <th>4</th>\n",
       "      <td>000003.wrl</td>\n",
       "      <td>1</td>\n",
       "      <td>0</td>\n",
       "      <td>1</td>\n",
       "      <td>0</td>\n",
       "    </tr>\n",
       "    <tr>\n",
       "      <th>5</th>\n",
       "      <td>000004.wrl</td>\n",
       "      <td>0</td>\n",
       "      <td>1</td>\n",
       "      <td>0</td>\n",
       "      <td>1</td>\n",
       "    </tr>\n",
       "    <tr>\n",
       "      <th>6</th>\n",
       "      <td>000005.wrl</td>\n",
       "      <td>0</td>\n",
       "      <td>1</td>\n",
       "      <td>0</td>\n",
       "      <td>1</td>\n",
       "    </tr>\n",
       "    <tr>\n",
       "      <th>7</th>\n",
       "      <td>000006.wrl</td>\n",
       "      <td>0</td>\n",
       "      <td>1</td>\n",
       "      <td>0</td>\n",
       "      <td>1</td>\n",
       "    </tr>\n",
       "    <tr>\n",
       "      <th>8</th>\n",
       "      <td>000007.wrl</td>\n",
       "      <td>0</td>\n",
       "      <td>1</td>\n",
       "      <td>0</td>\n",
       "      <td>1</td>\n",
       "    </tr>\n",
       "    <tr>\n",
       "      <th>9</th>\n",
       "      <td>000008.wrl</td>\n",
       "      <td>0</td>\n",
       "      <td>1</td>\n",
       "      <td>0</td>\n",
       "      <td>1</td>\n",
       "    </tr>\n",
       "    <tr>\n",
       "      <th>10</th>\n",
       "      <td>000009.wrl</td>\n",
       "      <td>0</td>\n",
       "      <td>1</td>\n",
       "      <td>0</td>\n",
       "      <td>1</td>\n",
       "    </tr>\n",
       "    <tr>\n",
       "      <th>11</th>\n",
       "      <td>000010.wrl</td>\n",
       "      <td>0</td>\n",
       "      <td>1</td>\n",
       "      <td>0</td>\n",
       "      <td>1</td>\n",
       "    </tr>\n",
       "    <tr>\n",
       "      <th>12</th>\n",
       "      <td>000011.wrl</td>\n",
       "      <td>0</td>\n",
       "      <td>1</td>\n",
       "      <td>0</td>\n",
       "      <td>1</td>\n",
       "    </tr>\n",
       "    <tr>\n",
       "      <th>13</th>\n",
       "      <td>000012.wrl</td>\n",
       "      <td>0</td>\n",
       "      <td>1</td>\n",
       "      <td>1</td>\n",
       "      <td>0</td>\n",
       "    </tr>\n",
       "    <tr>\n",
       "      <th>14</th>\n",
       "      <td>000013.wrl</td>\n",
       "      <td>0</td>\n",
       "      <td>1</td>\n",
       "      <td>1</td>\n",
       "      <td>0</td>\n",
       "    </tr>\n",
       "    <tr>\n",
       "      <th>15</th>\n",
       "      <td>000014.wrl</td>\n",
       "      <td>1</td>\n",
       "      <td>0</td>\n",
       "      <td>0</td>\n",
       "      <td>1</td>\n",
       "    </tr>\n",
       "    <tr>\n",
       "      <th>16</th>\n",
       "      <td>000015.wrl</td>\n",
       "      <td>1</td>\n",
       "      <td>0</td>\n",
       "      <td>0</td>\n",
       "      <td>1</td>\n",
       "    </tr>\n",
       "    <tr>\n",
       "      <th>17</th>\n",
       "      <td>000016.wrl</td>\n",
       "      <td>1</td>\n",
       "      <td>0</td>\n",
       "      <td>1</td>\n",
       "      <td>0</td>\n",
       "    </tr>\n",
       "    <tr>\n",
       "      <th>18</th>\n",
       "      <td>000017.wrl</td>\n",
       "      <td>1</td>\n",
       "      <td>0</td>\n",
       "      <td>1</td>\n",
       "      <td>0</td>\n",
       "    </tr>\n",
       "    <tr>\n",
       "      <th>19</th>\n",
       "      <td>000018.wrl</td>\n",
       "      <td>1</td>\n",
       "      <td>0</td>\n",
       "      <td>0</td>\n",
       "      <td>1</td>\n",
       "    </tr>\n",
       "    <tr>\n",
       "      <th>20</th>\n",
       "      <td>000019.wrl</td>\n",
       "      <td>1</td>\n",
       "      <td>0</td>\n",
       "      <td>0</td>\n",
       "      <td>1</td>\n",
       "    </tr>\n",
       "    <tr>\n",
       "      <th>21</th>\n",
       "      <td>000020.wrl</td>\n",
       "      <td>0</td>\n",
       "      <td>1</td>\n",
       "      <td>0</td>\n",
       "      <td>1</td>\n",
       "    </tr>\n",
       "    <tr>\n",
       "      <th>22</th>\n",
       "      <td>000021.wrl</td>\n",
       "      <td>0</td>\n",
       "      <td>1</td>\n",
       "      <td>0</td>\n",
       "      <td>1</td>\n",
       "    </tr>\n",
       "    <tr>\n",
       "      <th>23</th>\n",
       "      <td>000022.wrl</td>\n",
       "      <td>0</td>\n",
       "      <td>1</td>\n",
       "      <td>0</td>\n",
       "      <td>1</td>\n",
       "    </tr>\n",
       "    <tr>\n",
       "      <th>24</th>\n",
       "      <td>000023.wrl</td>\n",
       "      <td>0</td>\n",
       "      <td>1</td>\n",
       "      <td>0</td>\n",
       "      <td>1</td>\n",
       "    </tr>\n",
       "    <tr>\n",
       "      <th>25</th>\n",
       "      <td>000024.wrl</td>\n",
       "      <td>1</td>\n",
       "      <td>0</td>\n",
       "      <td>1</td>\n",
       "      <td>0</td>\n",
       "    </tr>\n",
       "    <tr>\n",
       "      <th>26</th>\n",
       "      <td>000025.wrl</td>\n",
       "      <td>1</td>\n",
       "      <td>0</td>\n",
       "      <td>1</td>\n",
       "      <td>0</td>\n",
       "    </tr>\n",
       "    <tr>\n",
       "      <th>27</th>\n",
       "      <td>000026.wrl</td>\n",
       "      <td>1</td>\n",
       "      <td>0</td>\n",
       "      <td>1</td>\n",
       "      <td>0</td>\n",
       "    </tr>\n",
       "    <tr>\n",
       "      <th>28</th>\n",
       "      <td>000027.wrl</td>\n",
       "      <td>1</td>\n",
       "      <td>0</td>\n",
       "      <td>1</td>\n",
       "      <td>0</td>\n",
       "    </tr>\n",
       "    <tr>\n",
       "      <th>29</th>\n",
       "      <td>000028.wrl</td>\n",
       "      <td>0</td>\n",
       "      <td>1</td>\n",
       "      <td>1</td>\n",
       "      <td>0</td>\n",
       "    </tr>\n",
       "    <tr>\n",
       "      <th>30</th>\n",
       "      <td>000029.wrl</td>\n",
       "      <td>0</td>\n",
       "      <td>1</td>\n",
       "      <td>1</td>\n",
       "      <td>0</td>\n",
       "    </tr>\n",
       "    <tr>\n",
       "      <th>31</th>\n",
       "      <td>000030.wrl</td>\n",
       "      <td>0</td>\n",
       "      <td>1</td>\n",
       "      <td>0</td>\n",
       "      <td>1</td>\n",
       "    </tr>\n",
       "    <tr>\n",
       "      <th>32</th>\n",
       "      <td>000031.wrl</td>\n",
       "      <td>0</td>\n",
       "      <td>1</td>\n",
       "      <td>0</td>\n",
       "      <td>1</td>\n",
       "    </tr>\n",
       "    <tr>\n",
       "      <th>33</th>\n",
       "      <td>000032.wrl</td>\n",
       "      <td>0</td>\n",
       "      <td>1</td>\n",
       "      <td>0</td>\n",
       "      <td>1</td>\n",
       "    </tr>\n",
       "    <tr>\n",
       "      <th>34</th>\n",
       "      <td>000033.wrl</td>\n",
       "      <td>0</td>\n",
       "      <td>1</td>\n",
       "      <td>0</td>\n",
       "      <td>1</td>\n",
       "    </tr>\n",
       "    <tr>\n",
       "      <th>35</th>\n",
       "      <td>000034.wrl</td>\n",
       "      <td>1</td>\n",
       "      <td>0</td>\n",
       "      <td>0</td>\n",
       "      <td>1</td>\n",
       "    </tr>\n",
       "    <tr>\n",
       "      <th>36</th>\n",
       "      <td>000035.wrl</td>\n",
       "      <td>1</td>\n",
       "      <td>0</td>\n",
       "      <td>0</td>\n",
       "      <td>1</td>\n",
       "    </tr>\n",
       "    <tr>\n",
       "      <th>37</th>\n",
       "      <td>000036.wrl</td>\n",
       "      <td>0</td>\n",
       "      <td>1</td>\n",
       "      <td>0</td>\n",
       "      <td>1</td>\n",
       "    </tr>\n",
       "    <tr>\n",
       "      <th>38</th>\n",
       "      <td>000037.wrl</td>\n",
       "      <td>0</td>\n",
       "      <td>1</td>\n",
       "      <td>0</td>\n",
       "      <td>1</td>\n",
       "    </tr>\n",
       "    <tr>\n",
       "      <th>39</th>\n",
       "      <td>000038.wrl</td>\n",
       "      <td>0</td>\n",
       "      <td>1</td>\n",
       "      <td>0</td>\n",
       "      <td>1</td>\n",
       "    </tr>\n",
       "    <tr>\n",
       "      <th>40</th>\n",
       "      <td>000039.wrl</td>\n",
       "      <td>0</td>\n",
       "      <td>1</td>\n",
       "      <td>0</td>\n",
       "      <td>1</td>\n",
       "    </tr>\n",
       "    <tr>\n",
       "      <th>41</th>\n",
       "      <td>000040.wrl</td>\n",
       "      <td>1</td>\n",
       "      <td>0</td>\n",
       "      <td>1</td>\n",
       "      <td>0</td>\n",
       "    </tr>\n",
       "    <tr>\n",
       "      <th>42</th>\n",
       "      <td>000041.wrl</td>\n",
       "      <td>1</td>\n",
       "      <td>0</td>\n",
       "      <td>1</td>\n",
       "      <td>0</td>\n",
       "    </tr>\n",
       "    <tr>\n",
       "      <th>43</th>\n",
       "      <td>000042.wrl</td>\n",
       "      <td>1</td>\n",
       "      <td>0</td>\n",
       "      <td>1</td>\n",
       "      <td>0</td>\n",
       "    </tr>\n",
       "    <tr>\n",
       "      <th>44</th>\n",
       "      <td>000043.wrl</td>\n",
       "      <td>1</td>\n",
       "      <td>0</td>\n",
       "      <td>1</td>\n",
       "      <td>0</td>\n",
       "    </tr>\n",
       "    <tr>\n",
       "      <th>45</th>\n",
       "      <td>000044.wrl</td>\n",
       "      <td>0</td>\n",
       "      <td>1</td>\n",
       "      <td>0</td>\n",
       "      <td>1</td>\n",
       "    </tr>\n",
       "    <tr>\n",
       "      <th>46</th>\n",
       "      <td>000045.wrl</td>\n",
       "      <td>0</td>\n",
       "      <td>1</td>\n",
       "      <td>0</td>\n",
       "      <td>1</td>\n",
       "    </tr>\n",
       "    <tr>\n",
       "      <th>47</th>\n",
       "      <td>000046.wrl</td>\n",
       "      <td>0</td>\n",
       "      <td>1</td>\n",
       "      <td>0</td>\n",
       "      <td>1</td>\n",
       "    </tr>\n",
       "    <tr>\n",
       "      <th>48</th>\n",
       "      <td>000047.wrl</td>\n",
       "      <td>0</td>\n",
       "      <td>1</td>\n",
       "      <td>0</td>\n",
       "      <td>1</td>\n",
       "    </tr>\n",
       "    <tr>\n",
       "      <th>49</th>\n",
       "      <td>000048.wrl</td>\n",
       "      <td>1</td>\n",
       "      <td>0</td>\n",
       "      <td>1</td>\n",
       "      <td>0</td>\n",
       "    </tr>\n",
       "    <tr>\n",
       "      <th>50</th>\n",
       "      <td>000049.wrl</td>\n",
       "      <td>1</td>\n",
       "      <td>0</td>\n",
       "      <td>1</td>\n",
       "      <td>0</td>\n",
       "    </tr>\n",
       "  </tbody>\n",
       "</table>\n",
       "</div>"
      ],
      "text/plain": [
       "             0        1          2         3       4\n",
       "0    Scan Name  Big Toe  Index Toe  Straight  Curved\n",
       "1   000000.wrl        1          0         1       0\n",
       "2   000001.wrl        0          1         1       0\n",
       "3   000002.wrl        1          0         1       0\n",
       "4   000003.wrl        1          0         1       0\n",
       "5   000004.wrl        0          1         0       1\n",
       "6   000005.wrl        0          1         0       1\n",
       "7   000006.wrl        0          1         0       1\n",
       "8   000007.wrl        0          1         0       1\n",
       "9   000008.wrl        0          1         0       1\n",
       "10  000009.wrl        0          1         0       1\n",
       "11  000010.wrl        0          1         0       1\n",
       "12  000011.wrl        0          1         0       1\n",
       "13  000012.wrl        0          1         1       0\n",
       "14  000013.wrl        0          1         1       0\n",
       "15  000014.wrl        1          0         0       1\n",
       "16  000015.wrl        1          0         0       1\n",
       "17  000016.wrl        1          0         1       0\n",
       "18  000017.wrl        1          0         1       0\n",
       "19  000018.wrl        1          0         0       1\n",
       "20  000019.wrl        1          0         0       1\n",
       "21  000020.wrl        0          1         0       1\n",
       "22  000021.wrl        0          1         0       1\n",
       "23  000022.wrl        0          1         0       1\n",
       "24  000023.wrl        0          1         0       1\n",
       "25  000024.wrl        1          0         1       0\n",
       "26  000025.wrl        1          0         1       0\n",
       "27  000026.wrl        1          0         1       0\n",
       "28  000027.wrl        1          0         1       0\n",
       "29  000028.wrl        0          1         1       0\n",
       "30  000029.wrl        0          1         1       0\n",
       "31  000030.wrl        0          1         0       1\n",
       "32  000031.wrl        0          1         0       1\n",
       "33  000032.wrl        0          1         0       1\n",
       "34  000033.wrl        0          1         0       1\n",
       "35  000034.wrl        1          0         0       1\n",
       "36  000035.wrl        1          0         0       1\n",
       "37  000036.wrl        0          1         0       1\n",
       "38  000037.wrl        0          1         0       1\n",
       "39  000038.wrl        0          1         0       1\n",
       "40  000039.wrl        0          1         0       1\n",
       "41  000040.wrl        1          0         1       0\n",
       "42  000041.wrl        1          0         1       0\n",
       "43  000042.wrl        1          0         1       0\n",
       "44  000043.wrl        1          0         1       0\n",
       "45  000044.wrl        0          1         0       1\n",
       "46  000045.wrl        0          1         0       1\n",
       "47  000046.wrl        0          1         0       1\n",
       "48  000047.wrl        0          1         0       1\n",
       "49  000048.wrl        1          0         1       0\n",
       "50  000049.wrl        1          0         1       0"
      ]
     },
     "execution_count": 90,
     "metadata": {},
     "output_type": "execute_result"
    }
   ],
   "source": [
    "points = pd.read_csv(\"0-49.csv\", header=None)\n",
    "\n",
    "points"
   ]
  },
  {
   "cell_type": "code",
   "execution_count": 91,
   "metadata": {
    "scrolled": false
   },
   "outputs": [
    {
     "data": {
      "text/plain": [
       "array([0., 1., 0., 0., 1., 1., 1., 1., 1., 1., 1., 1., 1., 1., 0., 0., 0.,\n",
       "       0., 0., 0., 1., 1., 1., 1., 0., 0., 0., 0., 1., 1., 1., 1., 1., 1.,\n",
       "       0., 0., 1., 1., 1., 1., 0., 0., 0., 0., 1., 1., 1., 1., 0., 0.])"
      ]
     },
     "execution_count": 91,
     "metadata": {},
     "output_type": "execute_result"
    }
   ],
   "source": [
    "# This is an array for the true values of the longest toe. 0 represents the big toe being the longest toe, \n",
    "# 1 represents the index toe being the longest toe.\n",
    "\n",
    "\n",
    "longest_toe = np.ones(len(points[2].values)-1)\n",
    "\n",
    "for i in range(1, len(points[2].values)):\n",
    "    longest_toe[i-1] = np.int(points[2].values[i])\n",
    "    \n",
    "longest_toe"
   ]
  },
  {
   "cell_type": "code",
   "execution_count": 92,
   "metadata": {},
   "outputs": [],
   "source": [
    "for i in range(50):\n",
    "    inp = glob.glob1(\"\",\"*.wrl\")[i]"
   ]
  },
  {
   "cell_type": "code",
   "execution_count": 93,
   "metadata": {},
   "outputs": [],
   "source": [
    "def find_coords(filename):\n",
    "    holder = []\n",
    "    with open(filename, \"r\") as vrml:\n",
    "        for i, line in enumerate(vrml):\n",
    "            if i > 16:\n",
    "                for line in vrml:\n",
    "                    if line[1] == ']':\n",
    "                        vrml.close()\n",
    "                        break\n",
    "                    else:\n",
    "                        line = line.strip(',\\n')\n",
    "                        #print(line)\n",
    "                        new_line = line.split()\n",
    "                        for j in range(len(new_line)):\n",
    "                            new_line[j] = float(new_line[j])\n",
    "                        holder.append(new_line)\n",
    "\n",
    "                break\n",
    "    return np.array(holder)\n",
    "    #print(holder)"
   ]
  },
  {
   "cell_type": "code",
   "execution_count": 94,
   "metadata": {},
   "outputs": [],
   "source": [
    "def formatting(ax):\n",
    "    ax.set_xlabel('Width of foot (aU)',fontsize = 14 )\n",
    "    ax.set_ylabel('Length of foot (aU)',fontsize = 14)\n",
    "    ax.tick_params(labelsize=14)\n",
    "    ax.set_title('Image of footscan ' + str(foot_scan),fontsize = 20)\n",
    "    return ax"
   ]
  },
  {
   "cell_type": "code",
   "execution_count": 95,
   "metadata": {},
   "outputs": [],
   "source": [
    "# The following code is a 2D version of the visualiser function in order to\n",
    "# produce a top down image of a footscan so that the toe line can be evaluated.  \n",
    "\n",
    "def Visualise2d(scan_array):\n",
    "    fig = plt.figure()\n",
    "    ax = fig.add_subplot(111)\n",
    "    ax.scatter(scan_array[:,0],scan_array[:,1],s = 0.9)\n",
    "    ax = formatting(ax)\n",
    "    plt.show()"
   ]
  },
  {
   "cell_type": "code",
   "execution_count": 96,
   "metadata": {},
   "outputs": [],
   "source": [
    "def leftright(scan_array):\n",
    "\n",
    "    leftside = np.ones(3)\n",
    "\n",
    "    rightside = np.ones(3)\n",
    "\n",
    "    for i in range(np.shape(scan_array)[0]):\n",
    "\n",
    "        if scan_array[i,2] >=0.02:\n",
    "\n",
    "            rightside = np.vstack((rightside,scan_array[i,:]))\n",
    "\n",
    "        if scan_array[i,2] <= -0.02:\n",
    "\n",
    "            leftside = np.vstack((leftside,scan_array[i,:]))\n",
    "\n",
    "\n",
    "\n",
    "    leftside = np.delete(leftside,0,0)\n",
    "\n",
    "    rightside = np.delete(rightside,0,0)\n",
    "\n",
    "\n",
    "\n",
    "    maxleft = np.amax(leftside[:,0])\n",
    "\n",
    "    maxright = np.amax(rightside[:,0])\n",
    "\n",
    "    if maxright > maxleft:\n",
    "\n",
    "        Side = 'L'\n",
    "\n",
    "    else:\n",
    "\n",
    "        Side = 'R'\n",
    "    return Side"
   ]
  },
  {
   "cell_type": "code",
   "execution_count": 97,
   "metadata": {},
   "outputs": [],
   "source": [
    "# A matrix containing the x and y coordinates for the footscan where \n",
    "# the first column is 'width' (x) and the second is 'length' (y).\n",
    "\n",
    "A = find_coords(foot_scan)\n",
    "A_2D = []\n",
    "A_2D = np.c_[A[:, 2], A[:, 0]]"
   ]
  },
  {
   "cell_type": "code",
   "execution_count": 98,
   "metadata": {},
   "outputs": [
    {
     "data": {
      "text/plain": [
       "'L'"
      ]
     },
     "execution_count": 98,
     "metadata": {},
     "output_type": "execute_result"
    }
   ],
   "source": [
    "# Whether a foot is left or right is imporant information and this 'foot' value is \n",
    "# used throughout.\n",
    "\n",
    "foot = leftright(A)\n",
    "foot"
   ]
  },
  {
   "cell_type": "code",
   "execution_count": 99,
   "metadata": {},
   "outputs": [],
   "source": [
    "# A convex hull is made of the footscan using a built-in scipy function.\n",
    "\n",
    "C = ConvexHull(A_2D)"
   ]
  },
  {
   "cell_type": "code",
   "execution_count": 100,
   "metadata": {
    "scrolled": true
   },
   "outputs": [
    {
     "data": {
      "image/png": "[encoded data removed]",
      "text/plain": [
       "<Figure size 900x360 with 1 Axes>"
      ]
     },
     "metadata": {
      "needs_background": "light"
     },
     "output_type": "display_data"
    }
   ],
   "source": [
    "# The following image is a scatter plot of the footscan along with its convex hull which is represented\n",
    "# by the outer black ring. The axes are purposely the wrong way round as all the other scans are flipped.\n",
    "\n",
    "Convex_array = []\n",
    "fig = plt.figure(figsize = [12.5, 5])\n",
    "ax = fig.add_subplot(111)\n",
    "ax.scatter(A_2D[:,1], -A_2D[:,0], s = 0.9)\n",
    "ax = formatting(ax)\n",
    "for simplex in C.simplices:\n",
    "    Convex_array.append(A_2D[simplex])\n",
    "    plt.plot(A_2D[simplex, 1], -A_2D[simplex, 0], 'k-')"
   ]
  },
  {
   "cell_type": "code",
   "execution_count": 101,
   "metadata": {},
   "outputs": [],
   "source": [
    "# A 2 dimensional array is made of the convex hull where each row is an x and y coordinate \n",
    "# representing a corner for the convex hull. \n",
    "\n",
    "\n",
    "Convex = np.zeros((np.shape(Convex_array)[0], np.shape(Convex_array)[1]))\n",
    "for i in range(len(Convex_array)):\n",
    "    for j in range(2):\n",
    "        Convex[i] = Convex_array[i][j]"
   ]
  },
  {
   "cell_type": "code",
   "execution_count": 102,
   "metadata": {},
   "outputs": [
    {
     "data": {
      "text/plain": [
       "[<matplotlib.lines.Line2D at 0xd26e4a8>]"
      ]
     },
     "execution_count": 102,
     "metadata": {},
     "output_type": "execute_result"
    },
    {
     "data": {
      "image/png": "[encoded data removed]",
      "text/plain": [
       "<Figure size 432x288 with 1 Axes>"
      ]
     },
     "metadata": {
      "needs_background": "light"
     },
     "output_type": "display_data"
    }
   ],
   "source": [
    "# A scatter plot for the convex array\n",
    "\n",
    "plt.plot(Convex[:,0], Convex[:,1], 'o')"
   ]
  },
  {
   "cell_type": "code",
   "execution_count": 103,
   "metadata": {},
   "outputs": [],
   "source": [
    "# Points that are less than 0.16 in the y-coorinate (along with their respective x values)\n",
    "# are removed since they are not relevant.\n",
    "A_array = []\n",
    "\n",
    "for i in range(len(A_2D)):\n",
    "    if A_2D[i, 1] > 0.16:\n",
    "        A_array.append(A_2D[i]) \n",
    "        \n",
    "A_new = np.zeros((np.shape(A_array)[0], np.shape(A_array)[1]))\n",
    "for i in range(len(A_array)):\n",
    "    A_new[i] = A_array[i]"
   ]
  },
  {
   "cell_type": "code",
   "execution_count": 104,
   "metadata": {},
   "outputs": [
    {
     "data": {
      "image/png": "[encoded data removed]",
      "text/plain": [
       "<Figure size 432x288 with 1 Axes>"
      ]
     },
     "metadata": {
      "needs_background": "light"
     },
     "output_type": "display_data"
    }
   ],
   "source": [
    "Visualise2d(A_new)"
   ]
  },
  {
   "cell_type": "code",
   "execution_count": 105,
   "metadata": {},
   "outputs": [
    {
     "data": {
      "image/png": "[encoded data removed]",
      "text/plain": [
       "<Figure size 432x288 with 1 Axes>"
      ]
     },
     "metadata": {
      "needs_background": "light"
     },
     "output_type": "display_data"
    }
   ],
   "source": [
    "# A new convex hull array is made from the updated foot scan array. The method for \n",
    "# creating this convex hull and its array are identical to that shown previously.\n",
    "\n",
    "C_new = ConvexHull(A_new) \n",
    "\n",
    "Convex_array = []\n",
    "plt.plot(A_new[:,0], A_new[:,1], 'o')\n",
    "for simplex in C_new.simplices:\n",
    "    Convex_array.append(A_new[simplex])\n",
    "    plt.plot(A_new[simplex, 0], A_new[simplex, 1], 'k-')"
   ]
  },
  {
   "cell_type": "code",
   "execution_count": 106,
   "metadata": {},
   "outputs": [],
   "source": [
    "Convex = np.zeros((np.shape(Convex_array)[0], np.shape(Convex_array)[1]))\n",
    "for i in range(len(Convex_array)):\n",
    "    for j in range(2):\n",
    "        Convex[i] = Convex_array[i][j]"
   ]
  },
  {
   "cell_type": "code",
   "execution_count": 107,
   "metadata": {},
   "outputs": [],
   "source": [
    "# A new 2D visualiser is made identical to that of the previous function except for \n",
    "# the size of the points (they are made bigger in this function).\n",
    "\n",
    "def Visualise2d_big(scan_array):\n",
    "    fig = plt.figure()\n",
    "    ax = fig.add_subplot(111)\n",
    "    ax.scatter(scan_array[:,0],scan_array[:,1])#, color = 'orange')\n",
    "    ax = formatting(ax)\n",
    "    plt.show()"
   ]
  },
  {
   "cell_type": "code",
   "execution_count": 108,
   "metadata": {},
   "outputs": [
    {
     "data": {
      "image/png": "[encoded data removed]",
      "text/plain": [
       "<Figure size 432x288 with 1 Axes>"
      ]
     },
     "metadata": {
      "needs_background": "light"
     },
     "output_type": "display_data"
    }
   ],
   "source": [
    "Visualise2d_big(Convex)"
   ]
  },
  {
   "cell_type": "code",
   "execution_count": 109,
   "metadata": {},
   "outputs": [],
   "source": [
    "# Points of the convex that are less than y = 0.18 are also removed since\n",
    "# they are irrelevant.\n",
    "\n",
    "Toe_line_array = []\n",
    "for i in range (len(Convex)):\n",
    "    if Convex[i][1] > 0.18:\n",
    "        Toe_line_array.append(Convex[i])\n",
    "        \n",
    "Toe_line = np.zeros((np.shape(Toe_line_array)[0], np.shape(Toe_line_array)[1]))\n",
    "for i in range(len(Toe_line_array)):\n",
    "        Toe_line[i] = Toe_line_array[i]"
   ]
  },
  {
   "cell_type": "code",
   "execution_count": 110,
   "metadata": {},
   "outputs": [
    {
     "data": {
      "text/plain": [
       "[<matplotlib.lines.Line2D at 0xc545b70>]"
      ]
     },
     "execution_count": 110,
     "metadata": {},
     "output_type": "execute_result"
    },
    {
     "data": {
      "image/png": "[encoded data removed]",
      "text/plain": [
       "<Figure size 432x288 with 1 Axes>"
      ]
     },
     "metadata": {
      "needs_background": "light"
     },
     "output_type": "display_data"
    }
   ],
   "source": [
    "plt.plot(Toe_line[:,0], Toe_line[:,1], 'o')"
   ]
  },
  {
   "cell_type": "code",
   "execution_count": 111,
   "metadata": {},
   "outputs": [],
   "source": [
    "# The position of the big toe is found by looking for the maximum y-position in a certain range. \n",
    "# Since some feet have a longer index toe than big toe, we can't look for the max value\n",
    "# across the entire range; an index toe is never less than x = -0.01 for a right foot or greater than\n",
    "# x = 0.01 for a left foot, this is the range implemented.\n",
    "\n",
    "\n",
    "max_pos = 0\n",
    "max_value = 0\n",
    "\n",
    "\n",
    "if foot == 'L':\n",
    "    for i in range (len(Toe_line)):\n",
    "        j = Toe_line[i,1]\n",
    "        if Toe_line[i][1] > max_value and Toe_line[i][0] > 0.01:\n",
    "            max_value = Toe_line[i][1]\n",
    "            max_pos = i\n",
    "            \n",
    "if foot == 'R':\n",
    "    for i in range (len(Toe_line)):\n",
    "        j = Toe_line[i,1]\n",
    "        if Toe_line[i][1] > max_value and Toe_line[i][0] < -0.01:\n",
    "            max_value = Toe_line[i][1]\n",
    "            max_pos = i"
   ]
  },
  {
   "cell_type": "code",
   "execution_count": 112,
   "metadata": {},
   "outputs": [
    {
     "name": "stdout",
     "output_type": "stream",
     "text": [
      "The big toe is the longest toe\n"
     ]
    }
   ],
   "source": [
    "# If the big toe is the maximum value across the entire range it is the longest toe, otherwise \n",
    "# it can be assumed that the index toe is the longest.\n",
    "\n",
    "\n",
    "if np.amax(Toe_line[:,1]) == max_value:\n",
    "    print('The big toe is the longest toe')\n",
    "else:\n",
    "    print('The index toe is the longest toe')"
   ]
  },
  {
   "cell_type": "code",
   "execution_count": 113,
   "metadata": {},
   "outputs": [],
   "source": [
    "# We want to remove the convex hull points that make up the side of the big toe since they will\n",
    "# interfere with the line of best fit. Therefore, any points that are to the left of the big toe position for a\n",
    "# right foot or to the right for a left foot are removed.\n",
    "\n",
    "\n",
    "Toe_line_new_array = []\n",
    "\n",
    "if foot == 'L':\n",
    "    for i in range(len(Toe_line)):\n",
    "        if Toe_line[i][0] <= Toe_line[max_pos][0]:\n",
    "            Toe_line_new_array.append(Toe_line[i])\n",
    "            \n",
    "if foot == 'R':\n",
    "    for i in range(len(Toe_line)):\n",
    "        if Toe_line[i][0] >= Toe_line[max_pos][0]:\n",
    "            Toe_line_new_array.append(Toe_line[i])\n",
    "            \n",
    "Toe_line_new = np.zeros((np.shape(Toe_line_new_array)[0], np.shape(Toe_line_new_array)[1]))\n",
    "for i in range(len(Toe_line_new_array)):\n",
    "        Toe_line_new[i] = Toe_line_new_array[i]"
   ]
  },
  {
   "cell_type": "code",
   "execution_count": 114,
   "metadata": {},
   "outputs": [
    {
     "data": {
      "image/png": "[encoded data removed]",
      "text/plain": [
       "<Figure size 432x288 with 1 Axes>"
      ]
     },
     "metadata": {
      "needs_background": "light"
     },
     "output_type": "display_data"
    }
   ],
   "source": [
    "fig = plt.figure()\n",
    "ax = fig.add_subplot(111)\n",
    "ax.set_title('Image of footscan ' + str(foot_scan),fontsize = 20)\n",
    "ax.tick_params(labelsize=14)\n",
    "plt.plot(Toe_line_new[:,0], Toe_line_new[:,1], 'o')\n",
    "#plt.plot(Close_x, Close_y, 'o')\n",
    "ax = formatting(ax)\n",
    "\n",
    "#Visualise2d_big(Toe_line_new)"
   ]
  },
  {
   "cell_type": "code",
   "execution_count": 29,
   "metadata": {},
   "outputs": [],
   "source": [
    "\"X axis\"\n",
    "x = (Toe_line_new[:,0])\n",
    "\n",
    "\"Y axis\"\n",
    "y = (Toe_line_new[:,1])"
   ]
  },
  {
   "cell_type": "code",
   "execution_count": 30,
   "metadata": {},
   "outputs": [],
   "source": [
    "#X = []\n",
    "#for j in range(len(x) - 1):\n",
    " #   for i in range(len(x) - 1):\n",
    "  #      if x[j] == x[i + 1] or x[i] == x[len(x) - 1]:\n",
    "   #         X.append(x[i])\n",
    "        \n",
    "#Y = []\n",
    "#for i in range(len(y) - 1):\n",
    " #   if y[i] != y[i + 1] or y[i] == y[len(y) - 1]:\n",
    "  #      Y.append(y[i])\n",
    "        \n",
    "        \n",
    "#X = np.matrix(X)\n",
    "#Y = np.matrix(Y)\n",
    "\n",
    "#num_points = np.int(np.shape(X)[1])\n",
    "#k = num_points\n",
    "#n = 1"
   ]
  },
  {
   "cell_type": "code",
   "execution_count": 31,
   "metadata": {},
   "outputs": [],
   "source": [
    "# The convex hull function produces points that are identical to one another, these need to be removed to keep\n",
    "# the line of best fit unbiased. A new unique array for both x and y is made that only contains one of each duplicate.\n",
    "\n",
    "\n",
    "X = []\n",
    "for i in x:\n",
    "    if i not in X:\n",
    "        X.append(i)\n",
    "        \n",
    "Y = []\n",
    "for i in y:\n",
    "    if i not in Y:\n",
    "        Y.append(i)\n",
    "\n",
    "X = np.matrix(X)\n",
    "Y = np.matrix(Y)\n",
    "\n",
    "num_points = np.int(np.shape(X)[1])\n",
    "k = num_points\n",
    "n = 1"
   ]
  },
  {
   "cell_type": "code",
   "execution_count": 32,
   "metadata": {},
   "outputs": [],
   "source": [
    "# A new 2D matrix (X_mod) is made where the first column of X_mod is all ones and the second is identical to the vector 'X'.\n",
    "# Y_mod is simply the tranpose of Y, these opeations are done in order to calculate the least squares variables.\n",
    "\n",
    "if np.shape(X)[0] == 1:\n",
    "    X = np.transpose(X)\n",
    "\n",
    "X_mod = np.c_[np.ones(k), X]\n",
    "\n",
    "if np.shape(Y)[0] == 1:\n",
    "    Y_mod = np.transpose(Y)"
   ]
  },
  {
   "cell_type": "code",
   "execution_count": 33,
   "metadata": {},
   "outputs": [],
   "source": [
    "# This function calculates the coefficients for the linear line of best fit in matrix form. Since it is linear, only two \n",
    "# coefficients are calculated (a and b) for the equation y = a + bx.\n",
    "\n",
    "def least_squares_variables():\n",
    "    A = []\n",
    "    j = 0\n",
    "    A_whole = np.linalg.inv(np.transpose(X_mod) * X_mod) * np.transpose(X_mod) * Y_mod\n",
    "    A.append(A_whole)\n",
    "    return A\n",
    "A = least_squares_variables()"
   ]
  },
  {
   "cell_type": "code",
   "execution_count": 34,
   "metadata": {},
   "outputs": [],
   "source": [
    "# Once the linear coefficents have been calculated, the predicted y-cooridnates can be easily calculated\n",
    "# as follows.\n",
    "\n",
    "\"Initial line(s) of best fit\"\n",
    "\n",
    "Y_linear = np.zeros(np.shape(X))\n",
    "j = 0\n",
    "i = 0\n",
    "for i in range(k):\n",
    "    Y_linear[i] =  np.float(A[j][0]) + np.float(A[j][1]) * X[i]"
   ]
  },
  {
   "cell_type": "code",
   "execution_count": 35,
   "metadata": {},
   "outputs": [],
   "source": [
    "# The sum squared error is total the difference between the predicted y-values and actual y-value squared (individually).\n",
    "# This is used to classify whether the overall toe line is curved or straight.\n",
    "\n",
    "\"S = Linear Sum Squared Error\"\n",
    "\n",
    "def SSE():\n",
    "    S_linear_each = []\n",
    "    for i in range(k):\n",
    "        S_i = np.sum(np.square((Y_mod[i] - Y_linear[i])))\n",
    "        S_linear_each.append(S_i)\n",
    "    return S_linear_each\n",
    "SSE_linear = SSE()"
   ]
  },
  {
   "cell_type": "code",
   "execution_count": 36,
   "metadata": {},
   "outputs": [],
   "source": [
    "# The quadratic coefficients for the 'curve of best fit' are calculated as follows. There are three coefficients (a, b and c)\n",
    "# for the equation y = a + bx + cx^2.\n",
    "\n",
    "Y_quadratic = np.zeros(k)\n",
    "\n",
    "X_quadratic = np.c_[X_mod, np.power(X, 2)]\n",
    "\n",
    "A_quadratic = []\n",
    "A_quadratic = np.linalg.inv(np.transpose(X_quadratic) * X_quadratic) * np.transpose(X_quadratic) * Y.transpose()\n",
    "\n",
    "#for i in range(k):\n",
    " #   Y_polynomial[i] =  (np.float(A_polynomial[0]) + np.float(A_polynomial[1]) * X[i] + \n",
    "  #                         np.float(A_polynomial[2]) * np.square(X[i]))  + np.float(A_polynomial[3] * np.power(X[i], 3)))"
   ]
  },
  {
   "cell_type": "code",
   "execution_count": 37,
   "metadata": {},
   "outputs": [],
   "source": [
    "#SSE_polynomial = []\n",
    "#for i in range(k):\n",
    "#    S_i = np.square((y[i] - Y_polynomial[i]))\n",
    "#    SSE_polynomial.append(S_i)   "
   ]
  },
  {
   "cell_type": "code",
   "execution_count": 38,
   "metadata": {},
   "outputs": [],
   "source": [
    "#Y_ls = np.zeros(k)\n",
    "#if SSE_polynomial < SSE_linear:\n",
    "#    for i in range(0, k):\n",
    "#       Y_ls[i] = Y_polynomial[i]\n",
    "#else:\n",
    "#    for i in range(0, k):\n",
    "#        Y_ls[i] = Y_linear[i]"
   ]
  },
  {
   "cell_type": "code",
   "execution_count": 39,
   "metadata": {},
   "outputs": [],
   "source": [
    "# A 1D array containing 100 elements evenly spread out from the minimum to the maximum x-cooridinate values is made.\n",
    "# The quadractic coefficients are then used to create an array for the respective 100 y-coordinates; 100 is chosen \n",
    "# in order to create an accurate curve.\n",
    "\n",
    "\n",
    "X_array = []\n",
    "i = np.amin(X)\n",
    "while i < np.amax(X):\n",
    "    X_array.append(i)\n",
    "    i = i + (np.amax(X)-np.amin(X))/100\n",
    "    \n",
    "\n",
    "Y_quadratic = np.zeros(len(X_array))\n",
    "for i in range(len(X_array)):\n",
    "    Y_quadratic[i] =  (np.float(A_quadratic[0]) + np.float(A_quadratic[1]) * X_array[i] +\n",
    "                           np.float(A_quadratic[2]) * np.square(X_array[i]))"
   ]
  },
  {
   "cell_type": "code",
   "execution_count": 40,
   "metadata": {},
   "outputs": [
    {
     "data": {
      "image/png": "[encoded data removed]",
      "text/plain": [
       "<Figure size 432x288 with 1 Axes>"
      ]
     },
     "metadata": {
      "needs_background": "light"
     },
     "output_type": "display_data"
    }
   ],
   "source": [
    "# The following is a scatter plot of the remaining convex hull along with its line and curve of best fit.\n",
    "\n",
    "fig = plt.figure()\n",
    "ax = fig.add_subplot(111)\n",
    "#plt.plot(X_array, Y_quadratic)\n",
    "plt.plot(X[:],Y_linear[:])\n",
    "plt.plot(X[:], Y_mod[:], 'o')\n",
    "ax = formatting(ax)\n",
    "plt.show()"
   ]
  },
  {
   "cell_type": "code",
   "execution_count": 41,
   "metadata": {},
   "outputs": [],
   "source": [
    "# The average squared error for each convex hull point to the linear line of best fit is calculated and is \n",
    "# the value used to classify the line\n",
    "\n",
    "Average_lin_error = np.sum(SSE_linear) / len(SSE_linear)"
   ]
  },
  {
   "cell_type": "code",
   "execution_count": 42,
   "metadata": {},
   "outputs": [],
   "source": [
    "# The gradient of the line of best fit is also calculated and represents the overall steepness of the line.\n",
    "\n",
    "X = np.array(X)\n",
    "\n",
    "m = (((np.mean(X)*np.mean(Y_linear)) - np.mean(np.transpose(X)*np.transpose(Y_linear))) /\n",
    "         ((np.mean(X)**2) - np.mean(Y_linear**2)))"
   ]
  },
  {
   "cell_type": "code",
   "execution_count": 43,
   "metadata": {},
   "outputs": [
    {
     "name": "stdout",
     "output_type": "stream",
     "text": [
      "The toe line is straight with a gradient of -0.009580631031310741\n"
     ]
    }
   ],
   "source": [
    "# 7*10^-5 is the boundary used to indicate whether a foot has a straight or curved toe line.\n",
    "\n",
    "if Average_lin_error <= 7e-05:\n",
    "    print('The toe line is straight with a gradient of ' + str(m))\n",
    "    \n",
    "if Average_lin_error > 7e-05:\n",
    "    print('The toe line is curved with a gradient of ' + str(m))"
   ]
  },
  {
   "cell_type": "code",
   "execution_count": null,
   "metadata": {},
   "outputs": [],
   "source": []
  },
  {
   "cell_type": "code",
   "execution_count": null,
   "metadata": {},
   "outputs": [],
   "source": []
  },
  {
   "cell_type": "code",
   "execution_count": 44,
   "metadata": {},
   "outputs": [],
   "source": [
    "# The remaining code calculates the gradient from toe to toe."
   ]
  },
  {
   "cell_type": "code",
   "execution_count": 45,
   "metadata": {},
   "outputs": [],
   "source": [
    "# The x and y vectors for the convex hull are transposed and then combined to make a 2D array.\n",
    "\n",
    "\n",
    "if np.shape(Y)[0] == 1:\n",
    "    Y = np.transpose(Y)\n",
    "    \n",
    "if np.shape(X)[0] == 1:\n",
    "    X = np.transpose(X)\n",
    "    \n",
    "XY = np.c_[X, Y]\n",
    "XY = np.array(XY)"
   ]
  },
  {
   "cell_type": "code",
   "execution_count": 46,
   "metadata": {},
   "outputs": [],
   "source": [
    "#def selection_sort(x):\n",
    " #   for i in range(len(x)):\n",
    "  #      swap = i + np.argmin(x[i:])\n",
    "   #     (x[i], x[swap]) = (x[swap], x[i])\n",
    "    #return x"
   ]
  },
  {
   "cell_type": "code",
   "execution_count": 47,
   "metadata": {},
   "outputs": [],
   "source": [
    "# The euclidean distances from every point to every other point (including themselves) are calculated in order to combine\n",
    "# points that represent the same toe.\n",
    "\n",
    "def Euc_dist(row1, row2, array):\n",
    "    Euc_dist = np.sqrt(np.square(array[row1][0] - array[row2][0])) + np.sqrt(np.square(array[row1][1] - array[row2][1]))\n",
    "    return Euc_dist"
   ]
  },
  {
   "cell_type": "code",
   "execution_count": 48,
   "metadata": {},
   "outputs": [],
   "source": [
    "# This is an (n x n) array where n represents the number of convex hull points of all the euclidean distances.\n",
    "\n",
    "Euc_dist_total = [[Euc_dist(i, j, XY) for j in range(len(XY))] for i in range(len(XY))]"
   ]
  },
  {
   "cell_type": "code",
   "execution_count": 69,
   "metadata": {},
   "outputs": [],
   "source": [
    "# This function returns the (latter) index of points that are 'near' each other, two points are considered near each other \n",
    "# if their euclidean distance is less than 0.01.\n",
    "\n",
    "def near(i, j):\n",
    "    if Euc_dist_total[i][j] < 0.015:\n",
    "        return j"
   ]
  },
  {
   "cell_type": "code",
   "execution_count": 70,
   "metadata": {},
   "outputs": [],
   "source": [
    "# This nested list notes down the return values of the 'near' function. It is symmetric by nature since point 1 to point 2 has \n",
    "# the same distance as point 2 to point 1. Moreover, the diagonal is always returned since a point always has a distance of\n",
    "# zero (< 0.01) from itself.\n",
    "\n",
    "Near_points = [[near(i, j) for j in range(len(XY))] for i in range(len(XY))]"
   ]
  },
  {
   "cell_type": "code",
   "execution_count": 71,
   "metadata": {},
   "outputs": [],
   "source": [
    "# This function takes the values of the near points list, as long as it exists (i.e. not equal to 'None'), and finds their \n",
    "# respective value.\n",
    "\n",
    "def near_pos(i, j):\n",
    "    if Near_points[i][j] != None:\n",
    "        return XY[Near_points[i][j]]"
   ]
  },
  {
   "cell_type": "code",
   "execution_count": 72,
   "metadata": {},
   "outputs": [],
   "source": [
    "# This is the nested list produced as a result of the near position functioon.\n",
    "\n",
    "XY_near = [[near_pos(i , j) for j in range(len(XY))] for i in range(len(XY))]"
   ]
  },
  {
   "cell_type": "code",
   "execution_count": 73,
   "metadata": {},
   "outputs": [],
   "source": [
    "# The following code separates the 'XY_near' nested list into the x and y coordinates and gets rid of the 'None' elements \n",
    "# produced by points that are not close enough together.\n",
    "\n",
    "X_val = []\n",
    "for i in range(len(XY)):\n",
    "    X_i = []\n",
    "    for j in range(len(XY)):\n",
    "        if type(XY_near[i][j]) == np.ndarray:\n",
    "            X_i.append(XY_near[i][j][0])\n",
    "    X_val.append(np.mean(X_i))\n",
    "    \n",
    "Y_val = []\n",
    "for i in range(len(XY)):\n",
    "    Y_i = []\n",
    "    for j in range(len(XY)):\n",
    "        if type(XY_near[i][j]) == np.ndarray:\n",
    "            Y_i.append(XY_near[i][j][1])\n",
    "    Y_val.append(np.mean(Y_i))"
   ]
  },
  {
   "cell_type": "code",
   "execution_count": 74,
   "metadata": {},
   "outputs": [
    {
     "data": {
      "text/plain": [
       "[<matplotlib.lines.Line2D at 0xb1b2240>]"
      ]
     },
     "execution_count": 74,
     "metadata": {},
     "output_type": "execute_result"
    },
    {
     "data": {
      "image/png": "[encoded data removed]",
      "text/plain": [
       "<Figure size 432x288 with 1 Axes>"
      ]
     },
     "metadata": {
      "needs_background": "light"
     },
     "output_type": "display_data"
    }
   ],
   "source": [
    "# Since the euclidean distance function returns the distance from point 1 to point 2 and point 2 to point 1 if\n",
    "# they are close enough, twice as many values are included as they should be. \n",
    "# The following code ignores all but one of these duplicates so that the remaining lists are unique. \n",
    "\n",
    "X_toe_point = []\n",
    "for i in X_val:\n",
    "    if i not in X_toe_point:\n",
    "        X_toe_point.append(i)\n",
    "        \n",
    "Y_toe_point = []\n",
    "for i in Y_val:\n",
    "    if i not in Y_toe_point:\n",
    "        Y_toe_point.append(i)\n",
    "        \n",
    "        \n",
    "# Scatter plot of the clustered convex hull points. Ideally, there are five points (one for each toe). \n",
    "\n",
    "fig = plt.figure()\n",
    "ax = fig.add_subplot(111)\n",
    "ax.set_title('Image of footscan ' + str(foot_scan),fontsize = 20)\n",
    "ax.tick_params(labelsize=14)\n",
    "ax = formatting(ax)\n",
    "plt.plot(X_array, Y_quadratic)\n",
    "plt.plot(X_toe_point[:], Y_toe_point[:], 'o')\n",
    "#plt.plot(Mid_x, Mid_y, 'o')"
   ]
  },
  {
   "cell_type": "code",
   "execution_count": 75,
   "metadata": {},
   "outputs": [],
   "source": [
    "XY_toe_point = np.c_[np.ones(5), np.zeros(5)]\n",
    "\n",
    "X_toe_point = []\n",
    "for i in X_val:\n",
    "    if i not in X_toe_point:\n",
    "        X_toe_point.append(i)\n",
    "        \n",
    "Y_toe_point = []\n",
    "for i in Y_val:\n",
    "    if i not in Y_toe_point:\n",
    "        Y_toe_point.append(i)\n",
    "\n",
    "        \n",
    "# If one too many convex hull points still remain, this if loop finds which two points are the closest (smallest euclidean\n",
    "# distance). These two points are then combined by finding the mean of their x and y values to leave five remaining points.\n",
    "if len(X_toe_point) == 6:\n",
    "    New_XY = np.c_[X_toe_point, Y_toe_point]\n",
    "    New_Euc_dist_total = [[Euc_dist(i, j, New_XY) for j in range(len(New_XY))] for i in range(len(New_XY))]\n",
    "    for i in range(len(New_Euc_dist_total)):\n",
    "        for j in range(len(New_Euc_dist_total)):\n",
    "            if New_Euc_dist_total[i][j] == 0:\n",
    "                New_Euc_dist_total[i][j] = 100\n",
    "\n",
    "    closest = 100\n",
    "    for i in range(len(New_Euc_dist_total)):\n",
    "        if np.amin(New_Euc_dist_total[i]) < closest:\n",
    "            closest = np.amin(New_Euc_dist_total[i])\n",
    "            closest_idx_1 = np.argmin(New_Euc_dist_total[i])\n",
    "            closest_idx_0 = i\n",
    "\n",
    "    New_XY_2 = np.c_[np.ones(len(X_toe_point)), np.ones(len(X_toe_point))]\n",
    "    j = 0\n",
    "    for i in range(len(X_toe_point)):\n",
    "        if i != closest_idx_1 and i != closest_idx_0:\n",
    "            New_XY_2[i][0] = X_toe_point[i]\n",
    "            New_XY_2[i][1] = Y_toe_point[i]\n",
    "            j = j + 1\n",
    "\n",
    "    New_XY_2[closest_idx_0][0] = (X_toe_point[closest_idx_0] + X_toe_point[closest_idx_1])/2\n",
    "    New_XY_2[closest_idx_0][1] = (Y_toe_point[closest_idx_0] + Y_toe_point[closest_idx_1])/2\n",
    "\n",
    "    New_X_toe_point = []\n",
    "    New_Y_toe_point = []\n",
    "    for i in range(len(New_XY_2)):\n",
    "        New_X_toe_point.append(New_XY_2[i][0])\n",
    "        New_Y_toe_point.append(New_XY_2[i][1])\n",
    "\n",
    "    New_X_toe_point.remove(1)\n",
    "    New_Y_toe_point.remove(1)\n",
    "\n",
    "    New_XY = np.c_[New_X_toe_point, New_Y_toe_point]\n",
    "    X_toe_point = New_X_toe_point\n",
    "    Y_toe_point = New_Y_toe_point\n",
    "    \n",
    "\n",
    "# This for loop combines the x and y points and rearranges them from smallest to largest x-cooridinate value \n",
    "# (along with the respective y-coordinate).  \n",
    "for i in range(len(X_toe_point)):\n",
    "    XY_toe_point[i][0] = np.amin(X_toe_point)\n",
    "    XY_toe_point[i][1] = Y_toe_point[np.argmin(X_toe_point)]\n",
    "    X_toe_point[np.argmin(X_toe_point)] = 100\n",
    "    \n",
    "\n",
    "    \n",
    "# If there are one too few convex hull points remaining, the two points that are farthest apart (largest euclidean distance)\n",
    "# are found so that a new point can be made. This new point is the average of the two in the x direction which is then plugged\n",
    "# into the curve of best fit equation to produce a y coordinate.  \n",
    "\n",
    "if len(X_toe_point) == 4:\n",
    "    gap = []\n",
    "    for i in range(3):\n",
    "        gap.append(Euc_dist(i, i+1, XY_toe_point))\n",
    "    if np.argmax(gap) == 0:\n",
    "        idx = [0, 4, 1, 2, 3]\n",
    "        XY_toe_point = XY_toe_point[idx]\n",
    "    if np.argmax(gap) == 1:\n",
    "        idx = [0, 1, 4, 2, 3]\n",
    "        XY_toe_point = XY_toe_point[idx]\n",
    "    if np.argmax(gap) == 2:\n",
    "        idx = [0, 1, 2, 4, 3]\n",
    "        XY_toe_point = XY_toe_point[idx]\n",
    "    j = np.argmax(gap) + 1\n",
    "    x_i = (XY_toe_point[j-1][0] + XY_toe_point[j+1][0])/2\n",
    "    XY_toe_point[j][0] = x_i\n",
    "    XY_toe_point[j][1] =  (np.float(A_quadratic[0]) + np.float(A_quadratic[1]) * x_i +\n",
    "                           np.float(A_quadratic[2]) * np.square(x_i))"
   ]
  },
  {
   "cell_type": "code",
   "execution_count": 77,
   "metadata": {},
   "outputs": [
    {
     "data": {
      "text/plain": [
       "[<matplotlib.lines.Line2D at 0xc7a55f8>]"
      ]
     },
     "execution_count": 77,
     "metadata": {},
     "output_type": "execute_result"
    },
    {
     "data": {
      "image/png": "[encoded data removed]",
      "text/plain": [
       "<Figure size 432x288 with 1 Axes>"
      ]
     },
     "metadata": {
      "needs_background": "light"
     },
     "output_type": "display_data"
    }
   ],
   "source": [
    "fig = plt.figure()\n",
    "ax = fig.add_subplot(111)\n",
    "ax.set_title('Image of footscan ' + str(foot_scan),fontsize = 20)\n",
    "ax.tick_params(labelsize=14)\n",
    "ax = formatting(ax)\n",
    "\n",
    "plt.plot(XY_toe_point[:, 0], XY_toe_point[:, 1], 'blue')\n",
    "plt.plot(XY_toe_point[:, 0], XY_toe_point[:, 1], 'o')"
   ]
  },
  {
   "cell_type": "code",
   "execution_count": 79,
   "metadata": {},
   "outputs": [],
   "source": [
    "# Simple function to find the slope between two to points. \n",
    "\n",
    "def slope(x1, x2, y1, y2):\n",
    "    return (y2-y1)/(x2-x1)"
   ]
  },
  {
   "cell_type": "code",
   "execution_count": 80,
   "metadata": {},
   "outputs": [
    {
     "data": {
      "text/plain": [
       "[[-0.23823433361152443],\n",
       " [-0.5279697797781701],\n",
       " [-0.9106337841421372],\n",
       " [-1.71896551724138]]"
      ]
     },
     "execution_count": 80,
     "metadata": {},
     "output_type": "execute_result"
    }
   ],
   "source": [
    "# This nested list represents the four gradients from one point to the next. \n",
    "\n",
    "m_toe2toe = [[slope(XY_toe_point[i][0], XY_toe_point[i+1][0], XY_toe_point[i][1], XY_toe_point[i+1][1])] for i in \n",
    "             range(len(XY_toe_point)-1)]\n",
    "m_toe2toe"
   ]
  },
  {
   "cell_type": "code",
   "execution_count": 81,
   "metadata": {},
   "outputs": [],
   "source": [
    "# The four gradients are seperated into four different values. If a foot is a left, the elements of \n",
    "# the list are flipped and a minus sign is added so that the gradients go from the big toe to the little \n",
    "# and positive and negative gradients represent an increase and decrease respecively for both feet. \n",
    "# No change needs to be done to a right foot.\n",
    "\n",
    "if foot == 'L':\n",
    "    m_1 = - m_toe2toe[3][0]\n",
    "    m_2 = - m_toe2toe[2][0]\n",
    "    m_3 = - m_toe2toe[1][0]\n",
    "    m_4 = - m_toe2toe[0][0]\n",
    "    \n",
    "if foot == 'R':\n",
    "    m_1 = m_toe2toe[0][0]\n",
    "    m_2 = m_toe2toe[1][0]\n",
    "    m_3 = m_toe2toe[2][0]\n",
    "    m_4 = m_toe2toe[3][0]"
   ]
  },
  {
   "cell_type": "code",
   "execution_count": 82,
   "metadata": {},
   "outputs": [
    {
     "data": {
      "text/plain": [
       "([-0.23823433361152443,\n",
       "  -0.5279697797781701,\n",
       "  -0.9106337841421372,\n",
       "  -1.71896551724138],\n",
       " ['Shallow Decrease', 'Sharp Decrease', 'Sharp Decrease', 'Sharp Decrease'])"
      ]
     },
     "execution_count": 82,
     "metadata": {},
     "output_type": "execute_result"
    }
   ],
   "source": [
    "# This writes the gradient values into words.\n",
    "\n",
    "Gradient = [m_1, m_2, m_3, m_4]\n",
    "Change = [0, 0, 0, 0]\n",
    "for i in range(len(Gradient)):\n",
    "    if Gradient[i] < 0.1 and Gradient[i] > -0.1:\n",
    "        Change[i] = 'Horizontal'\n",
    "    if Gradient[i] > 0.1 and Gradient[i] < 0.5:\n",
    "        Change[i] = 'Shallow Increase'\n",
    "    if Gradient[i] < -0.1 and Gradient[i] > -0.5:\n",
    "        Change[i] = 'Shallow Decrease'\n",
    "    if Gradient[i] > 0.5:\n",
    "        Change[i] = 'Sharp Increase'\n",
    "    if Gradient[i] < -0.5:\n",
    "        Change[i] = 'Sharp Decrease'\n",
    "        \n",
    "Gradient, Change"
   ]
  },
  {
   "cell_type": "code",
   "execution_count": null,
   "metadata": {},
   "outputs": [],
   "source": []
  },
  {
   "cell_type": "code",
   "execution_count": null,
   "metadata": {},
   "outputs": [],
   "source": []
  },
  {
   "cell_type": "code",
   "execution_count": null,
   "metadata": {},
   "outputs": [],
   "source": []
  },
  {
   "cell_type": "code",
   "execution_count": null,
   "metadata": {},
   "outputs": [],
   "source": []
  }
 ],
 "metadata": {
  "kernelspec": {
   "display_name": "Python 2",
   "language": "python",
   "name": "python2"
  },
  "language_info": {
   "codemirror_mode": {
    "name": "ipython",
    "version": 2
   },
   "file_extension": ".py",
   "mimetype": "text/x-python",
   "name": "python",
   "nbconvert_exporter": "python",
   "pygments_lexer": "ipython2",
   "version": "2.7.15"
  }
 },
 "nbformat": 4,
 "nbformat_minor": 2
}
